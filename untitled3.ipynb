{
  "nbformat": 4,
  "nbformat_minor": 0,
  "metadata": {
    "colab": {
      "provenance": [],
      "authorship_tag": "ABX9TyPpTvzpcYo+wcJ1HcW0gGCK",
      "include_colab_link": true
    },
    "kernelspec": {
      "name": "python3",
      "display_name": "Python 3"
    },
    "language_info": {
      "name": "python"
    }
  },
  "cells": [
    {
      "cell_type": "markdown",
      "metadata": {
        "id": "view-in-github",
        "colab_type": "text"
      },
      "source": [
        "<a href=\"https://colab.research.google.com/github/Anila-K/CodeClauseIntership_stock-market-prediction/blob/main/untitled3.ipynb\" target=\"_parent\"><img src=\"https://colab.research.google.com/assets/colab-badge.svg\" alt=\"Open In Colab\"/></a>"
      ]
    },
    {
      "cell_type": "code",
      "source": [
        "#import libraries\n",
        "import pandas as pd\n",
        "import xgboost as xgb\n",
        "import matplotlib.pyplot as plt\n",
        "\n"
      ],
      "metadata": {
        "id": "zcDa5VkVBEqm"
      },
      "execution_count": null,
      "outputs": []
    },
    {
      "cell_type": "code",
      "source": [
        "#load data\n",
        "import yfinance as yf\n",
        "yf"
      ],
      "metadata": {
        "colab": {
          "base_uri": "https://localhost:8080/"
        },
        "id": "gwhuxEtlJfox",
        "outputId": "d978a2bd-c441-4e95-9c2f-5627536baab2"
      },
      "execution_count": null,
      "outputs": [
        {
          "output_type": "execute_result",
          "data": {
            "text/plain": [
              "<module 'yfinance' from '/usr/local/lib/python3.10/dist-packages/yfinance/__init__.py'>"
            ]
          },
          "metadata": {},
          "execution_count": 2
        }
      ]
    },
    {
      "cell_type": "code",
      "source": [
        "d= yf.Ticker(\"AAPL\")\n",
        "d"
      ],
      "metadata": {
        "colab": {
          "base_uri": "https://localhost:8080/"
        },
        "id": "FYvErh_DJ-J0",
        "outputId": "631583b2-9db2-40a1-fe30-77f56df8d153"
      },
      "execution_count": null,
      "outputs": [
        {
          "output_type": "execute_result",
          "data": {
            "text/plain": [
              "yfinance.Ticker object <AAPL>"
            ]
          },
          "metadata": {},
          "execution_count": 3
        }
      ]
    },
    {
      "cell_type": "code",
      "source": [
        "data = d.history(period=\"1mo\", interval=\"1d\")\n",
        "data"
      ],
      "metadata": {
        "colab": {
          "base_uri": "https://localhost:8080/",
          "height": 707
        },
        "id": "MJmlGdf9LRYz",
        "outputId": "a6e71140-d383-4a26-bed5-2e6866228ea4"
      },
      "execution_count": null,
      "outputs": [
        {
          "output_type": "execute_result",
          "data": {
            "text/plain": [
              "                                 Open        High         Low       Close  \\\n",
              "Date                                                                        \n",
              "2023-08-21 00:00:00-04:00  175.070007  176.130005  173.740005  175.839996   \n",
              "2023-08-22 00:00:00-04:00  177.059998  177.679993  176.250000  177.229996   \n",
              "2023-08-23 00:00:00-04:00  178.520004  181.550003  178.330002  181.119995   \n",
              "2023-08-24 00:00:00-04:00  180.669998  181.100006  176.009995  176.380005   \n",
              "2023-08-25 00:00:00-04:00  177.380005  179.149994  175.820007  178.610001   \n",
              "2023-08-28 00:00:00-04:00  180.089996  180.589996  178.550003  180.190002   \n",
              "2023-08-29 00:00:00-04:00  179.699997  184.899994  179.500000  184.119995   \n",
              "2023-08-30 00:00:00-04:00  184.940002  187.850006  184.740005  187.649994   \n",
              "2023-08-31 00:00:00-04:00  187.839996  189.119995  187.479996  187.869995   \n",
              "2023-09-01 00:00:00-04:00  189.490005  189.919998  188.279999  189.460007   \n",
              "2023-09-05 00:00:00-04:00  188.279999  189.979996  187.610001  189.699997   \n",
              "2023-09-06 00:00:00-04:00  188.399994  188.850006  181.470001  182.910004   \n",
              "2023-09-07 00:00:00-04:00  175.179993  178.210007  173.539993  177.559998   \n",
              "2023-09-08 00:00:00-04:00  178.350006  180.240005  177.789993  178.179993   \n",
              "2023-09-11 00:00:00-04:00  180.070007  180.300003  177.339996  179.360001   \n",
              "2023-09-12 00:00:00-04:00  179.490005  180.130005  174.820007  176.300003   \n",
              "2023-09-13 00:00:00-04:00  176.509995  177.300003  173.979996  174.210007   \n",
              "2023-09-14 00:00:00-04:00  174.000000  176.100006  173.580002  175.740005   \n",
              "2023-09-15 00:00:00-04:00  176.479996  176.500000  173.820007  175.009995   \n",
              "2023-09-18 00:00:00-04:00  176.479996  179.380005  176.169998  177.970001   \n",
              "\n",
              "                              Volume  Dividends  Stock Splits  \n",
              "Date                                                           \n",
              "2023-08-21 00:00:00-04:00   46311900        0.0           0.0  \n",
              "2023-08-22 00:00:00-04:00   42084200        0.0           0.0  \n",
              "2023-08-23 00:00:00-04:00   52722800        0.0           0.0  \n",
              "2023-08-24 00:00:00-04:00   54945800        0.0           0.0  \n",
              "2023-08-25 00:00:00-04:00   51449600        0.0           0.0  \n",
              "2023-08-28 00:00:00-04:00   43820700        0.0           0.0  \n",
              "2023-08-29 00:00:00-04:00   53003900        0.0           0.0  \n",
              "2023-08-30 00:00:00-04:00   60813900        0.0           0.0  \n",
              "2023-08-31 00:00:00-04:00   60794500        0.0           0.0  \n",
              "2023-09-01 00:00:00-04:00   45732600        0.0           0.0  \n",
              "2023-09-05 00:00:00-04:00   45280000        0.0           0.0  \n",
              "2023-09-06 00:00:00-04:00   81755800        0.0           0.0  \n",
              "2023-09-07 00:00:00-04:00  112488800        0.0           0.0  \n",
              "2023-09-08 00:00:00-04:00   65551300        0.0           0.0  \n",
              "2023-09-11 00:00:00-04:00   58953100        0.0           0.0  \n",
              "2023-09-12 00:00:00-04:00   90370200        0.0           0.0  \n",
              "2023-09-13 00:00:00-04:00   84267900        0.0           0.0  \n",
              "2023-09-14 00:00:00-04:00   60895800        0.0           0.0  \n",
              "2023-09-15 00:00:00-04:00  109205100        0.0           0.0  \n",
              "2023-09-18 00:00:00-04:00   67117100        0.0           0.0  "
            ],
            "text/html": [
              "\n",
              "  <div id=\"df-00cc6fb2-3243-421a-9b06-fc86d978d3d6\" class=\"colab-df-container\">\n",
              "    <div>\n",
              "<style scoped>\n",
              "    .dataframe tbody tr th:only-of-type {\n",
              "        vertical-align: middle;\n",
              "    }\n",
              "\n",
              "    .dataframe tbody tr th {\n",
              "        vertical-align: top;\n",
              "    }\n",
              "\n",
              "    .dataframe thead th {\n",
              "        text-align: right;\n",
              "    }\n",
              "</style>\n",
              "<table border=\"1\" class=\"dataframe\">\n",
              "  <thead>\n",
              "    <tr style=\"text-align: right;\">\n",
              "      <th></th>\n",
              "      <th>Open</th>\n",
              "      <th>High</th>\n",
              "      <th>Low</th>\n",
              "      <th>Close</th>\n",
              "      <th>Volume</th>\n",
              "      <th>Dividends</th>\n",
              "      <th>Stock Splits</th>\n",
              "    </tr>\n",
              "    <tr>\n",
              "      <th>Date</th>\n",
              "      <th></th>\n",
              "      <th></th>\n",
              "      <th></th>\n",
              "      <th></th>\n",
              "      <th></th>\n",
              "      <th></th>\n",
              "      <th></th>\n",
              "    </tr>\n",
              "  </thead>\n",
              "  <tbody>\n",
              "    <tr>\n",
              "      <th>2023-08-21 00:00:00-04:00</th>\n",
              "      <td>175.070007</td>\n",
              "      <td>176.130005</td>\n",
              "      <td>173.740005</td>\n",
              "      <td>175.839996</td>\n",
              "      <td>46311900</td>\n",
              "      <td>0.0</td>\n",
              "      <td>0.0</td>\n",
              "    </tr>\n",
              "    <tr>\n",
              "      <th>2023-08-22 00:00:00-04:00</th>\n",
              "      <td>177.059998</td>\n",
              "      <td>177.679993</td>\n",
              "      <td>176.250000</td>\n",
              "      <td>177.229996</td>\n",
              "      <td>42084200</td>\n",
              "      <td>0.0</td>\n",
              "      <td>0.0</td>\n",
              "    </tr>\n",
              "    <tr>\n",
              "      <th>2023-08-23 00:00:00-04:00</th>\n",
              "      <td>178.520004</td>\n",
              "      <td>181.550003</td>\n",
              "      <td>178.330002</td>\n",
              "      <td>181.119995</td>\n",
              "      <td>52722800</td>\n",
              "      <td>0.0</td>\n",
              "      <td>0.0</td>\n",
              "    </tr>\n",
              "    <tr>\n",
              "      <th>2023-08-24 00:00:00-04:00</th>\n",
              "      <td>180.669998</td>\n",
              "      <td>181.100006</td>\n",
              "      <td>176.009995</td>\n",
              "      <td>176.380005</td>\n",
              "      <td>54945800</td>\n",
              "      <td>0.0</td>\n",
              "      <td>0.0</td>\n",
              "    </tr>\n",
              "    <tr>\n",
              "      <th>2023-08-25 00:00:00-04:00</th>\n",
              "      <td>177.380005</td>\n",
              "      <td>179.149994</td>\n",
              "      <td>175.820007</td>\n",
              "      <td>178.610001</td>\n",
              "      <td>51449600</td>\n",
              "      <td>0.0</td>\n",
              "      <td>0.0</td>\n",
              "    </tr>\n",
              "    <tr>\n",
              "      <th>2023-08-28 00:00:00-04:00</th>\n",
              "      <td>180.089996</td>\n",
              "      <td>180.589996</td>\n",
              "      <td>178.550003</td>\n",
              "      <td>180.190002</td>\n",
              "      <td>43820700</td>\n",
              "      <td>0.0</td>\n",
              "      <td>0.0</td>\n",
              "    </tr>\n",
              "    <tr>\n",
              "      <th>2023-08-29 00:00:00-04:00</th>\n",
              "      <td>179.699997</td>\n",
              "      <td>184.899994</td>\n",
              "      <td>179.500000</td>\n",
              "      <td>184.119995</td>\n",
              "      <td>53003900</td>\n",
              "      <td>0.0</td>\n",
              "      <td>0.0</td>\n",
              "    </tr>\n",
              "    <tr>\n",
              "      <th>2023-08-30 00:00:00-04:00</th>\n",
              "      <td>184.940002</td>\n",
              "      <td>187.850006</td>\n",
              "      <td>184.740005</td>\n",
              "      <td>187.649994</td>\n",
              "      <td>60813900</td>\n",
              "      <td>0.0</td>\n",
              "      <td>0.0</td>\n",
              "    </tr>\n",
              "    <tr>\n",
              "      <th>2023-08-31 00:00:00-04:00</th>\n",
              "      <td>187.839996</td>\n",
              "      <td>189.119995</td>\n",
              "      <td>187.479996</td>\n",
              "      <td>187.869995</td>\n",
              "      <td>60794500</td>\n",
              "      <td>0.0</td>\n",
              "      <td>0.0</td>\n",
              "    </tr>\n",
              "    <tr>\n",
              "      <th>2023-09-01 00:00:00-04:00</th>\n",
              "      <td>189.490005</td>\n",
              "      <td>189.919998</td>\n",
              "      <td>188.279999</td>\n",
              "      <td>189.460007</td>\n",
              "      <td>45732600</td>\n",
              "      <td>0.0</td>\n",
              "      <td>0.0</td>\n",
              "    </tr>\n",
              "    <tr>\n",
              "      <th>2023-09-05 00:00:00-04:00</th>\n",
              "      <td>188.279999</td>\n",
              "      <td>189.979996</td>\n",
              "      <td>187.610001</td>\n",
              "      <td>189.699997</td>\n",
              "      <td>45280000</td>\n",
              "      <td>0.0</td>\n",
              "      <td>0.0</td>\n",
              "    </tr>\n",
              "    <tr>\n",
              "      <th>2023-09-06 00:00:00-04:00</th>\n",
              "      <td>188.399994</td>\n",
              "      <td>188.850006</td>\n",
              "      <td>181.470001</td>\n",
              "      <td>182.910004</td>\n",
              "      <td>81755800</td>\n",
              "      <td>0.0</td>\n",
              "      <td>0.0</td>\n",
              "    </tr>\n",
              "    <tr>\n",
              "      <th>2023-09-07 00:00:00-04:00</th>\n",
              "      <td>175.179993</td>\n",
              "      <td>178.210007</td>\n",
              "      <td>173.539993</td>\n",
              "      <td>177.559998</td>\n",
              "      <td>112488800</td>\n",
              "      <td>0.0</td>\n",
              "      <td>0.0</td>\n",
              "    </tr>\n",
              "    <tr>\n",
              "      <th>2023-09-08 00:00:00-04:00</th>\n",
              "      <td>178.350006</td>\n",
              "      <td>180.240005</td>\n",
              "      <td>177.789993</td>\n",
              "      <td>178.179993</td>\n",
              "      <td>65551300</td>\n",
              "      <td>0.0</td>\n",
              "      <td>0.0</td>\n",
              "    </tr>\n",
              "    <tr>\n",
              "      <th>2023-09-11 00:00:00-04:00</th>\n",
              "      <td>180.070007</td>\n",
              "      <td>180.300003</td>\n",
              "      <td>177.339996</td>\n",
              "      <td>179.360001</td>\n",
              "      <td>58953100</td>\n",
              "      <td>0.0</td>\n",
              "      <td>0.0</td>\n",
              "    </tr>\n",
              "    <tr>\n",
              "      <th>2023-09-12 00:00:00-04:00</th>\n",
              "      <td>179.490005</td>\n",
              "      <td>180.130005</td>\n",
              "      <td>174.820007</td>\n",
              "      <td>176.300003</td>\n",
              "      <td>90370200</td>\n",
              "      <td>0.0</td>\n",
              "      <td>0.0</td>\n",
              "    </tr>\n",
              "    <tr>\n",
              "      <th>2023-09-13 00:00:00-04:00</th>\n",
              "      <td>176.509995</td>\n",
              "      <td>177.300003</td>\n",
              "      <td>173.979996</td>\n",
              "      <td>174.210007</td>\n",
              "      <td>84267900</td>\n",
              "      <td>0.0</td>\n",
              "      <td>0.0</td>\n",
              "    </tr>\n",
              "    <tr>\n",
              "      <th>2023-09-14 00:00:00-04:00</th>\n",
              "      <td>174.000000</td>\n",
              "      <td>176.100006</td>\n",
              "      <td>173.580002</td>\n",
              "      <td>175.740005</td>\n",
              "      <td>60895800</td>\n",
              "      <td>0.0</td>\n",
              "      <td>0.0</td>\n",
              "    </tr>\n",
              "    <tr>\n",
              "      <th>2023-09-15 00:00:00-04:00</th>\n",
              "      <td>176.479996</td>\n",
              "      <td>176.500000</td>\n",
              "      <td>173.820007</td>\n",
              "      <td>175.009995</td>\n",
              "      <td>109205100</td>\n",
              "      <td>0.0</td>\n",
              "      <td>0.0</td>\n",
              "    </tr>\n",
              "    <tr>\n",
              "      <th>2023-09-18 00:00:00-04:00</th>\n",
              "      <td>176.479996</td>\n",
              "      <td>179.380005</td>\n",
              "      <td>176.169998</td>\n",
              "      <td>177.970001</td>\n",
              "      <td>67117100</td>\n",
              "      <td>0.0</td>\n",
              "      <td>0.0</td>\n",
              "    </tr>\n",
              "  </tbody>\n",
              "</table>\n",
              "</div>\n",
              "    <div class=\"colab-df-buttons\">\n",
              "\n",
              "  <div class=\"colab-df-container\">\n",
              "    <button class=\"colab-df-convert\" onclick=\"convertToInteractive('df-00cc6fb2-3243-421a-9b06-fc86d978d3d6')\"\n",
              "            title=\"Convert this dataframe to an interactive table.\"\n",
              "            style=\"display:none;\">\n",
              "\n",
              "  <svg xmlns=\"http://www.w3.org/2000/svg\" height=\"24px\" viewBox=\"0 -960 960 960\">\n",
              "    <path d=\"M120-120v-720h720v720H120Zm60-500h600v-160H180v160Zm220 220h160v-160H400v160Zm0 220h160v-160H400v160ZM180-400h160v-160H180v160Zm440 0h160v-160H620v160ZM180-180h160v-160H180v160Zm440 0h160v-160H620v160Z\"/>\n",
              "  </svg>\n",
              "    </button>\n",
              "\n",
              "  <style>\n",
              "    .colab-df-container {\n",
              "      display:flex;\n",
              "      gap: 12px;\n",
              "    }\n",
              "\n",
              "    .colab-df-convert {\n",
              "      background-color: #E8F0FE;\n",
              "      border: none;\n",
              "      border-radius: 50%;\n",
              "      cursor: pointer;\n",
              "      display: none;\n",
              "      fill: #1967D2;\n",
              "      height: 32px;\n",
              "      padding: 0 0 0 0;\n",
              "      width: 32px;\n",
              "    }\n",
              "\n",
              "    .colab-df-convert:hover {\n",
              "      background-color: #E2EBFA;\n",
              "      box-shadow: 0px 1px 2px rgba(60, 64, 67, 0.3), 0px 1px 3px 1px rgba(60, 64, 67, 0.15);\n",
              "      fill: #174EA6;\n",
              "    }\n",
              "\n",
              "    .colab-df-buttons div {\n",
              "      margin-bottom: 4px;\n",
              "    }\n",
              "\n",
              "    [theme=dark] .colab-df-convert {\n",
              "      background-color: #3B4455;\n",
              "      fill: #D2E3FC;\n",
              "    }\n",
              "\n",
              "    [theme=dark] .colab-df-convert:hover {\n",
              "      background-color: #434B5C;\n",
              "      box-shadow: 0px 1px 3px 1px rgba(0, 0, 0, 0.15);\n",
              "      filter: drop-shadow(0px 1px 2px rgba(0, 0, 0, 0.3));\n",
              "      fill: #FFFFFF;\n",
              "    }\n",
              "  </style>\n",
              "\n",
              "    <script>\n",
              "      const buttonEl =\n",
              "        document.querySelector('#df-00cc6fb2-3243-421a-9b06-fc86d978d3d6 button.colab-df-convert');\n",
              "      buttonEl.style.display =\n",
              "        google.colab.kernel.accessAllowed ? 'block' : 'none';\n",
              "\n",
              "      async function convertToInteractive(key) {\n",
              "        const element = document.querySelector('#df-00cc6fb2-3243-421a-9b06-fc86d978d3d6');\n",
              "        const dataTable =\n",
              "          await google.colab.kernel.invokeFunction('convertToInteractive',\n",
              "                                                    [key], {});\n",
              "        if (!dataTable) return;\n",
              "\n",
              "        const docLinkHtml = 'Like what you see? Visit the ' +\n",
              "          '<a target=\"_blank\" href=https://colab.research.google.com/notebooks/data_table.ipynb>data table notebook</a>'\n",
              "          + ' to learn more about interactive tables.';\n",
              "        element.innerHTML = '';\n",
              "        dataTable['output_type'] = 'display_data';\n",
              "        await google.colab.output.renderOutput(dataTable, element);\n",
              "        const docLink = document.createElement('div');\n",
              "        docLink.innerHTML = docLinkHtml;\n",
              "        element.appendChild(docLink);\n",
              "      }\n",
              "    </script>\n",
              "  </div>\n",
              "\n",
              "\n",
              "<div id=\"df-7641d11d-2dfc-4ba5-8f4e-488b83fa4ce0\">\n",
              "  <button class=\"colab-df-quickchart\" onclick=\"quickchart('df-7641d11d-2dfc-4ba5-8f4e-488b83fa4ce0')\"\n",
              "            title=\"Suggest charts.\"\n",
              "            style=\"display:none;\">\n",
              "\n",
              "<svg xmlns=\"http://www.w3.org/2000/svg\" height=\"24px\"viewBox=\"0 0 24 24\"\n",
              "     width=\"24px\">\n",
              "    <g>\n",
              "        <path d=\"M19 3H5c-1.1 0-2 .9-2 2v14c0 1.1.9 2 2 2h14c1.1 0 2-.9 2-2V5c0-1.1-.9-2-2-2zM9 17H7v-7h2v7zm4 0h-2V7h2v10zm4 0h-2v-4h2v4z\"/>\n",
              "    </g>\n",
              "</svg>\n",
              "  </button>\n",
              "\n",
              "<style>\n",
              "  .colab-df-quickchart {\n",
              "      --bg-color: #E8F0FE;\n",
              "      --fill-color: #1967D2;\n",
              "      --hover-bg-color: #E2EBFA;\n",
              "      --hover-fill-color: #174EA6;\n",
              "      --disabled-fill-color: #AAA;\n",
              "      --disabled-bg-color: #DDD;\n",
              "  }\n",
              "\n",
              "  [theme=dark] .colab-df-quickchart {\n",
              "      --bg-color: #3B4455;\n",
              "      --fill-color: #D2E3FC;\n",
              "      --hover-bg-color: #434B5C;\n",
              "      --hover-fill-color: #FFFFFF;\n",
              "      --disabled-bg-color: #3B4455;\n",
              "      --disabled-fill-color: #666;\n",
              "  }\n",
              "\n",
              "  .colab-df-quickchart {\n",
              "    background-color: var(--bg-color);\n",
              "    border: none;\n",
              "    border-radius: 50%;\n",
              "    cursor: pointer;\n",
              "    display: none;\n",
              "    fill: var(--fill-color);\n",
              "    height: 32px;\n",
              "    padding: 0;\n",
              "    width: 32px;\n",
              "  }\n",
              "\n",
              "  .colab-df-quickchart:hover {\n",
              "    background-color: var(--hover-bg-color);\n",
              "    box-shadow: 0 1px 2px rgba(60, 64, 67, 0.3), 0 1px 3px 1px rgba(60, 64, 67, 0.15);\n",
              "    fill: var(--button-hover-fill-color);\n",
              "  }\n",
              "\n",
              "  .colab-df-quickchart-complete:disabled,\n",
              "  .colab-df-quickchart-complete:disabled:hover {\n",
              "    background-color: var(--disabled-bg-color);\n",
              "    fill: var(--disabled-fill-color);\n",
              "    box-shadow: none;\n",
              "  }\n",
              "\n",
              "  .colab-df-spinner {\n",
              "    border: 2px solid var(--fill-color);\n",
              "    border-color: transparent;\n",
              "    border-bottom-color: var(--fill-color);\n",
              "    animation:\n",
              "      spin 1s steps(1) infinite;\n",
              "  }\n",
              "\n",
              "  @keyframes spin {\n",
              "    0% {\n",
              "      border-color: transparent;\n",
              "      border-bottom-color: var(--fill-color);\n",
              "      border-left-color: var(--fill-color);\n",
              "    }\n",
              "    20% {\n",
              "      border-color: transparent;\n",
              "      border-left-color: var(--fill-color);\n",
              "      border-top-color: var(--fill-color);\n",
              "    }\n",
              "    30% {\n",
              "      border-color: transparent;\n",
              "      border-left-color: var(--fill-color);\n",
              "      border-top-color: var(--fill-color);\n",
              "      border-right-color: var(--fill-color);\n",
              "    }\n",
              "    40% {\n",
              "      border-color: transparent;\n",
              "      border-right-color: var(--fill-color);\n",
              "      border-top-color: var(--fill-color);\n",
              "    }\n",
              "    60% {\n",
              "      border-color: transparent;\n",
              "      border-right-color: var(--fill-color);\n",
              "    }\n",
              "    80% {\n",
              "      border-color: transparent;\n",
              "      border-right-color: var(--fill-color);\n",
              "      border-bottom-color: var(--fill-color);\n",
              "    }\n",
              "    90% {\n",
              "      border-color: transparent;\n",
              "      border-bottom-color: var(--fill-color);\n",
              "    }\n",
              "  }\n",
              "</style>\n",
              "\n",
              "  <script>\n",
              "    async function quickchart(key) {\n",
              "      const quickchartButtonEl =\n",
              "        document.querySelector('#' + key + ' button');\n",
              "      quickchartButtonEl.disabled = true;  // To prevent multiple clicks.\n",
              "      quickchartButtonEl.classList.add('colab-df-spinner');\n",
              "      try {\n",
              "        const charts = await google.colab.kernel.invokeFunction(\n",
              "            'suggestCharts', [key], {});\n",
              "      } catch (error) {\n",
              "        console.error('Error during call to suggestCharts:', error);\n",
              "      }\n",
              "      quickchartButtonEl.classList.remove('colab-df-spinner');\n",
              "      quickchartButtonEl.classList.add('colab-df-quickchart-complete');\n",
              "    }\n",
              "    (() => {\n",
              "      let quickchartButtonEl =\n",
              "        document.querySelector('#df-7641d11d-2dfc-4ba5-8f4e-488b83fa4ce0 button');\n",
              "      quickchartButtonEl.style.display =\n",
              "        google.colab.kernel.accessAllowed ? 'block' : 'none';\n",
              "    })();\n",
              "  </script>\n",
              "</div>\n",
              "    </div>\n",
              "  </div>\n"
            ]
          },
          "metadata": {},
          "execution_count": 4
        }
      ]
    },
    {
      "cell_type": "code",
      "source": [
        "data.info(10)"
      ],
      "metadata": {
        "colab": {
          "base_uri": "https://localhost:8080/"
        },
        "id": "fRhPAKhLL1qr",
        "outputId": "26d866dc-7fa8-43d6-ae94-7600a62bcceb"
      },
      "execution_count": null,
      "outputs": [
        {
          "output_type": "stream",
          "name": "stdout",
          "text": [
            "<class 'pandas.core.frame.DataFrame'>\n",
            "DatetimeIndex: 20 entries, 2023-08-21 00:00:00-04:00 to 2023-09-18 00:00:00-04:00\n",
            "Data columns (total 7 columns):\n",
            " #   Column        Non-Null Count  Dtype  \n",
            "---  ------        --------------  -----  \n",
            " 0   Open          20 non-null     float64\n",
            " 1   High          20 non-null     float64\n",
            " 2   Low           20 non-null     float64\n",
            " 3   Close         20 non-null     float64\n",
            " 4   Volume        20 non-null     int64  \n",
            " 5   Dividends     20 non-null     float64\n",
            " 6   Stock Splits  20 non-null     float64\n",
            "dtypes: float64(6), int64(1)\n",
            "memory usage: 1.2 KB\n"
          ]
        }
      ]
    },
    {
      "cell_type": "code",
      "source": [
        "data.Close.plot()"
      ],
      "metadata": {
        "colab": {
          "base_uri": "https://localhost:8080/",
          "height": 461
        },
        "id": "Od64CHV6QAuk",
        "outputId": "d4e77634-1414-42cf-b8a7-a21dfef86fb3"
      },
      "execution_count": null,
      "outputs": [
        {
          "output_type": "execute_result",
          "data": {
            "text/plain": [
              "<Axes: xlabel='Date'>"
            ]
          },
          "metadata": {},
          "execution_count": 6
        },
        {
          "output_type": "display_data",
          "data": {
            "text/plain": [
              "<Figure size 640x480 with 1 Axes>"
            ],
            "image/png": "[encoded data removed]"
          },
          "metadata": {}
        }
      ]
    },
    {
      "cell_type": "code",
      "source": [
        "#split the data in to training and testing dataset\n",
        "train_data = data.iloc[:int(.99*len(data)),:]\n",
        "test_data = data.iloc[:int(.99*len(data)):,:]"
      ],
      "metadata": {
        "id": "lVy-FqUbQnzH"
      },
      "execution_count": null,
      "outputs": []
    },
    {
      "cell_type": "code",
      "source": [
        "#Define the features and target variable\n",
        "features = ['Open','Volume']\n",
        "target = 'Close'"
      ],
      "metadata": {
        "id": "qM8zqhjxoTgd"
      },
      "execution_count": null,
      "outputs": []
    },
    {
      "cell_type": "code",
      "source": [
        "#create and train the model\n",
        "model = xgb.XGBRegressor()\n",
        "model.fit(train_data[features],train_data[target])"
      ],
      "metadata": {
        "id": "5jbWc07QrJ_p",
        "colab": {
          "base_uri": "https://localhost:8080/",
          "height": 248
        },
        "outputId": "be6c9b1d-03ce-4f85-f546-5ecc72f8613d"
      },
      "execution_count": null,
      "outputs": [
        {
          "output_type": "execute_result",
          "data": {
            "text/plain": [
              "XGBRegressor(base_score=None, booster=None, callbacks=None,\n",
              "             colsample_bylevel=None, colsample_bynode=None,\n",
              "             colsample_bytree=None, early_stopping_rounds=None,\n",
              "             enable_categorical=False, eval_metric=None, feature_types=None,\n",
              "             gamma=None, gpu_id=None, grow_policy=None, importance_type=None,\n",
              "             interaction_constraints=None, learning_rate=None, max_bin=None,\n",
              "             max_cat_threshold=None, max_cat_to_onehot=None,\n",
              "             max_delta_step=None, max_depth=None, max_leaves=None,\n",
              "             min_child_weight=None, missing=nan, monotone_constraints=None,\n",
              "             n_estimators=100, n_jobs=None, num_parallel_tree=None,\n",
              "             predictor=None, random_state=None, ...)"
            ],
            "text/html": [
              "<style>#sk-container-id-1 {color: black;background-color: white;}#sk-container-id-1 pre{padding: 0;}#sk-container-id-1 div.sk-toggleable {background-color: white;}#sk-container-id-1 label.sk-toggleable__label {cursor: pointer;display: block;width: 100%;margin-bottom: 0;padding: 0.3em;box-sizing: border-box;text-align: center;}#sk-container-id-1 label.sk-toggleable__label-arrow:before {content: \"▸\";float: left;margin-right: 0.25em;color: #696969;}#sk-container-id-1 label.sk-toggleable__label-arrow:hover:before {color: black;}#sk-container-id-1 div.sk-estimator:hover label.sk-toggleable__label-arrow:before {color: black;}#sk-container-id-1 div.sk-toggleable__content {max-height: 0;max-width: 0;overflow: hidden;text-align: left;background-color: #f0f8ff;}#sk-container-id-1 div.sk-toggleable__content pre {margin: 0.2em;color: black;border-radius: 0.25em;background-color: #f0f8ff;}#sk-container-id-1 input.sk-toggleable__control:checked~div.sk-toggleable__content {max-height: 200px;max-width: 100%;overflow: auto;}#sk-container-id-1 input.sk-toggleable__control:checked~label.sk-toggleable__label-arrow:before {content: \"▾\";}#sk-container-id-1 div.sk-estimator input.sk-toggleable__control:checked~label.sk-toggleable__label {background-color: #d4ebff;}#sk-container-id-1 div.sk-label input.sk-toggleable__control:checked~label.sk-toggleable__label {background-color: #d4ebff;}#sk-container-id-1 input.sk-hidden--visually {border: 0;clip: rect(1px 1px 1px 1px);clip: rect(1px, 1px, 1px, 1px);height: 1px;margin: -1px;overflow: hidden;padding: 0;position: absolute;width: 1px;}#sk-container-id-1 div.sk-estimator {font-family: monospace;background-color: #f0f8ff;border: 1px dotted black;border-radius: 0.25em;box-sizing: border-box;margin-bottom: 0.5em;}#sk-container-id-1 div.sk-estimator:hover {background-color: #d4ebff;}#sk-container-id-1 div.sk-parallel-item::after {content: \"\";width: 100%;border-bottom: 1px solid gray;flex-grow: 1;}#sk-container-id-1 div.sk-label:hover label.sk-toggleable__label {background-color: #d4ebff;}#sk-container-id-1 div.sk-serial::before {content: \"\";position: absolute;border-left: 1px solid gray;box-sizing: border-box;top: 0;bottom: 0;left: 50%;z-index: 0;}#sk-container-id-1 div.sk-serial {display: flex;flex-direction: column;align-items: center;background-color: white;padding-right: 0.2em;padding-left: 0.2em;position: relative;}#sk-container-id-1 div.sk-item {position: relative;z-index: 1;}#sk-container-id-1 div.sk-parallel {display: flex;align-items: stretch;justify-content: center;background-color: white;position: relative;}#sk-container-id-1 div.sk-item::before, #sk-container-id-1 div.sk-parallel-item::before {content: \"\";position: absolute;border-left: 1px solid gray;box-sizing: border-box;top: 0;bottom: 0;left: 50%;z-index: -1;}#sk-container-id-1 div.sk-parallel-item {display: flex;flex-direction: column;z-index: 1;position: relative;background-color: white;}#sk-container-id-1 div.sk-parallel-item:first-child::after {align-self: flex-end;width: 50%;}#sk-container-id-1 div.sk-parallel-item:last-child::after {align-self: flex-start;width: 50%;}#sk-container-id-1 div.sk-parallel-item:only-child::after {width: 0;}#sk-container-id-1 div.sk-dashed-wrapped {border: 1px dashed gray;margin: 0 0.4em 0.5em 0.4em;box-sizing: border-box;padding-bottom: 0.4em;background-color: white;}#sk-container-id-1 div.sk-label label {font-family: monospace;font-weight: bold;display: inline-block;line-height: 1.2em;}#sk-container-id-1 div.sk-label-container {text-align: center;}#sk-container-id-1 div.sk-container {/* jupyter's `normalize.less` sets `[hidden] { display: none; }` but bootstrap.min.css set `[hidden] { display: none !important; }` so we also need the `!important` here to be able to override the default hidden behavior on the sphinx rendered scikit-learn.org. See: https://github.com/scikit-learn/scikit-learn/issues/21755 */display: inline-block !important;position: relative;}#sk-container-id-1 div.sk-text-repr-fallback {display: none;}</style><div id=\"sk-container-id-1\" class=\"sk-top-container\"><div class=\"sk-text-repr-fallback\"><pre>XGBRegressor(base_score=None, booster=None, callbacks=None,\n",
              "             colsample_bylevel=None, colsample_bynode=None,\n",
              "             colsample_bytree=None, early_stopping_rounds=None,\n",
              "             enable_categorical=False, eval_metric=None, feature_types=None,\n",
              "             gamma=None, gpu_id=None, grow_policy=None, importance_type=None,\n",
              "             interaction_constraints=None, learning_rate=None, max_bin=None,\n",
              "             max_cat_threshold=None, max_cat_to_onehot=None,\n",
              "             max_delta_step=None, max_depth=None, max_leaves=None,\n",
              "             min_child_weight=None, missing=nan, monotone_constraints=None,\n",
              "             n_estimators=100, n_jobs=None, num_parallel_tree=None,\n",
              "             predictor=None, random_state=None, ...)</pre><b>In a Jupyter environment, please rerun this cell to show the HTML representation or trust the notebook. <br />On GitHub, the HTML representation is unable to render, please try loading this page with nbviewer.org.</b></div><div class=\"sk-container\" hidden><div class=\"sk-item\"><div class=\"sk-estimator sk-toggleable\"><input class=\"sk-toggleable__control sk-hidden--visually\" id=\"sk-estimator-id-1\" type=\"checkbox\" checked><label for=\"sk-estimator-id-1\" class=\"sk-toggleable__label sk-toggleable__label-arrow\">XGBRegressor</label><div class=\"sk-toggleable__content\"><pre>XGBRegressor(base_score=None, booster=None, callbacks=None,\n",
              "             colsample_bylevel=None, colsample_bynode=None,\n",
              "             colsample_bytree=None, early_stopping_rounds=None,\n",
              "             enable_categorical=False, eval_metric=None, feature_types=None,\n",
              "             gamma=None, gpu_id=None, grow_policy=None, importance_type=None,\n",
              "             interaction_constraints=None, learning_rate=None, max_bin=None,\n",
              "             max_cat_threshold=None, max_cat_to_onehot=None,\n",
              "             max_delta_step=None, max_depth=None, max_leaves=None,\n",
              "             min_child_weight=None, missing=nan, monotone_constraints=None,\n",
              "             n_estimators=100, n_jobs=None, num_parallel_tree=None,\n",
              "             predictor=None, random_state=None, ...)</pre></div></div></div></div></div>"
            ]
          },
          "metadata": {},
          "execution_count": 9
        }
      ]
    },
    {
      "cell_type": "code",
      "source": [
        "#make and show the predictions on the train data\n",
        "predictions = model.predict(test_data[features])\n",
        "print(\"model predictions: \")\n",
        "print(predictions)"
      ],
      "metadata": {
        "colab": {
          "base_uri": "https://localhost:8080/"
        },
        "id": "X3kgX9STIHlG",
        "outputId": "b62628c5-241b-4fea-97cd-9c49ae9b8d4d"
      },
      "execution_count": null,
      "outputs": [
        {
          "output_type": "stream",
          "name": "stdout",
          "text": [
            "model predictions: \n",
            "[175.83913 177.2302  181.12108 176.38095 178.61089 180.19002 184.11836\n",
            " 187.65022 187.86887 189.46042 189.6992  182.9102  177.55869 178.17917\n",
            " 179.36043 176.30011 174.2113  175.74046 175.00984]\n"
          ]
        }
      ]
    },
    {
      "cell_type": "code",
      "source": [
        "#show the actual values\n",
        "print (\"actual values: \")\n",
        "print(test_data[target])"
      ],
      "metadata": {
        "colab": {
          "base_uri": "https://localhost:8080/"
        },
        "id": "ZSxbvHZvJDud",
        "outputId": "e79d4f81-fa5c-4334-f17f-51bd270d28ad"
      },
      "execution_count": null,
      "outputs": [
        {
          "output_type": "stream",
          "name": "stdout",
          "text": [
            "actual values: \n",
            "Date\n",
            "2023-08-21 00:00:00-04:00    175.839996\n",
            "2023-08-22 00:00:00-04:00    177.229996\n",
            "2023-08-23 00:00:00-04:00    181.119995\n",
            "2023-08-24 00:00:00-04:00    176.380005\n",
            "2023-08-25 00:00:00-04:00    178.610001\n",
            "2023-08-28 00:00:00-04:00    180.190002\n",
            "2023-08-29 00:00:00-04:00    184.119995\n",
            "2023-08-30 00:00:00-04:00    187.649994\n",
            "2023-08-31 00:00:00-04:00    187.869995\n",
            "2023-09-01 00:00:00-04:00    189.460007\n",
            "2023-09-05 00:00:00-04:00    189.699997\n",
            "2023-09-06 00:00:00-04:00    182.910004\n",
            "2023-09-07 00:00:00-04:00    177.559998\n",
            "2023-09-08 00:00:00-04:00    178.179993\n",
            "2023-09-11 00:00:00-04:00    179.360001\n",
            "2023-09-12 00:00:00-04:00    176.300003\n",
            "2023-09-13 00:00:00-04:00    174.210007\n",
            "2023-09-14 00:00:00-04:00    175.740005\n",
            "2023-09-15 00:00:00-04:00    175.009995\n",
            "Name: Close, dtype: float64\n"
          ]
        }
      ]
    },
    {
      "cell_type": "code",
      "source": [
        "#show the model accuracy\n",
        "accuracy = model.score(test_data[features],test_data[target])\n",
        "print(\"accuracy of model: \")\n",
        "print(accuracy)"
      ],
      "metadata": {
        "colab": {
          "base_uri": "https://localhost:8080/"
        },
        "id": "wSjeauS9JYTa",
        "outputId": "8cf1268d-1414-42f4-86e0-e2d131ccefc7"
      },
      "execution_count": null,
      "outputs": [
        {
          "output_type": "stream",
          "name": "stdout",
          "text": [
            "accuracy of model: \n",
            "0.9999999722332972\n"
          ]
        }
      ]
    },
    {
      "cell_type": "code",
      "source": [
        "#plot the predictions and the close price\n",
        "plt.plot(data['Close'],label ='Close Price')\n",
        "plt.plot(test_data[target].index,predictions,label='Predictions')\n",
        "plt.legend()\n",
        "plt.show()"
      ],
      "metadata": {
        "colab": {
          "base_uri": "https://localhost:8080/",
          "height": 430
        },
        "id": "ozRUjkzHKD2e",
        "outputId": "c9cc636b-d8f2-40a9-abfc-257f204a76c0"
      },
      "execution_count": null,
      "outputs": [
        {
          "output_type": "display_data",
          "data": {
            "text/plain": [
              "<Figure size 640x480 with 1 Axes>"
            ],
            "image/png": "[encoded data removed]"
          },
          "metadata": {}
        }
      ]
    }
  ]
}